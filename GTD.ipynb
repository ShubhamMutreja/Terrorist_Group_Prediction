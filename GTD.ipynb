{
 "cells": [
  {
   "cell_type": "code",
   "execution_count": 1,
   "metadata": {
    "scrolled": true
   },
   "outputs": [
    {
     "name": "stderr",
     "output_type": "stream",
     "text": [
      "C:\\ProgramData\\Anaconda3\\lib\\site-packages\\h5py\\__init__.py:36: FutureWarning: Conversion of the second argument of issubdtype from `float` to `np.floating` is deprecated. In future, it will be treated as `np.float64 == np.dtype(float).type`.\n",
      "  from ._conv import register_converters as _register_converters\n",
      "Using TensorFlow backend.\n",
      "C:\\ProgramData\\Anaconda3\\lib\\site-packages\\sklearn\\ensemble\\weight_boosting.py:29: DeprecationWarning: numpy.core.umath_tests is an internal NumPy module and should not be imported. It will be removed in a future NumPy release.\n",
      "  from numpy.core.umath_tests import inner1d\n"
     ]
    }
   ],
   "source": [
    "#Importing libraries\n",
    "import numpy as np\n",
    "import pandas as pd\n",
    "import tensorflow as tf\n",
    "\n",
    "from keras.preprocessing.text import Tokenizer\n",
    "from keras.preprocessing import sequence\n",
    "\n",
    "from sklearn.model_selection import train_test_split\n",
    "from sklearn.preprocessing import StandardScaler\n",
    "from sklearn.preprocessing import LabelEncoder\n",
    "from sklearn.ensemble import BaggingClassifier, ExtraTreesClassifier, RandomForestClassifier\n",
    "from sklearn.neighbors import KNeighborsClassifier\n",
    "from sklearn.linear_model import RidgeClassifier\n",
    "from sklearn.svm import SVC\n",
    "from sklearn.naive_bayes import GaussianNB, BernoulliNB, MultinomialNB"
   ]
  },
  {
   "cell_type": "code",
   "execution_count": 2,
   "metadata": {
    "scrolled": true
   },
   "outputs": [],
   "source": [
    "#Label Encoder to encode names of Terrorist Organisations\n",
    "label_encoder = LabelEncoder()"
   ]
  },
  {
   "cell_type": "code",
   "execution_count": 3,
   "metadata": {},
   "outputs": [],
   "source": [
    "#Scaling values for higher accuracy\n",
    "scale_values  = StandardScaler()"
   ]
  },
  {
   "cell_type": "code",
   "execution_count": 4,
   "metadata": {},
   "outputs": [],
   "source": [
    "# Create classifiers for processing\n",
    "rf = BaggingClassifier(max_features=7)\n",
    "et = ExtraTreesClassifier()\n",
    "knn = KNeighborsClassifier()\n",
    "svc = SVC()\n",
    "rg = RidgeClassifier()\n",
    "gnb = BernoulliNB()"
   ]
  },
  {
   "cell_type": "code",
   "execution_count": 5,
   "metadata": {},
   "outputs": [
    {
     "data": {
      "text/html": [
       "<div>\n",
       "<style scoped>\n",
       "    .dataframe tbody tr th:only-of-type {\n",
       "        vertical-align: middle;\n",
       "    }\n",
       "\n",
       "    .dataframe tbody tr th {\n",
       "        vertical-align: top;\n",
       "    }\n",
       "\n",
       "    .dataframe thead th {\n",
       "        text-align: right;\n",
       "    }\n",
       "</style>\n",
       "<table border=\"1\" class=\"dataframe\">\n",
       "  <thead>\n",
       "    <tr style=\"text-align: right;\">\n",
       "      <th></th>\n",
       "      <th>eventid</th>\n",
       "      <th>iyear</th>\n",
       "      <th>imonth</th>\n",
       "      <th>iday</th>\n",
       "      <th>approxdate</th>\n",
       "      <th>extended</th>\n",
       "      <th>resolution</th>\n",
       "      <th>country</th>\n",
       "      <th>country_txt</th>\n",
       "      <th>region</th>\n",
       "      <th>...</th>\n",
       "      <th>addnotes</th>\n",
       "      <th>scite1</th>\n",
       "      <th>scite2</th>\n",
       "      <th>scite3</th>\n",
       "      <th>dbsource</th>\n",
       "      <th>INT_LOG</th>\n",
       "      <th>INT_IDEO</th>\n",
       "      <th>INT_MISC</th>\n",
       "      <th>INT_ANY</th>\n",
       "      <th>related</th>\n",
       "    </tr>\n",
       "  </thead>\n",
       "  <tbody>\n",
       "    <tr>\n",
       "      <th>0</th>\n",
       "      <td>201401010001</td>\n",
       "      <td>2014</td>\n",
       "      <td>1</td>\n",
       "      <td>1</td>\n",
       "      <td>NaN</td>\n",
       "      <td>0</td>\n",
       "      <td>NaN</td>\n",
       "      <td>45</td>\n",
       "      <td>Colombia</td>\n",
       "      <td>3</td>\n",
       "      <td>...</td>\n",
       "      <td>NaN</td>\n",
       "      <td>\"ELN bomb Colombia oil pipeline infrastructure...</td>\n",
       "      <td>\"Colombia Guerrilla Update: ELN Blows Up Crude...</td>\n",
       "      <td>NaN</td>\n",
       "      <td>START Primary Collection</td>\n",
       "      <td>0</td>\n",
       "      <td>0</td>\n",
       "      <td>0</td>\n",
       "      <td>0</td>\n",
       "      <td>201401010001, 201401010055, 201401010056, 2014...</td>\n",
       "    </tr>\n",
       "    <tr>\n",
       "      <th>1</th>\n",
       "      <td>201401010002</td>\n",
       "      <td>2014</td>\n",
       "      <td>1</td>\n",
       "      <td>1</td>\n",
       "      <td>NaN</td>\n",
       "      <td>0</td>\n",
       "      <td>NaN</td>\n",
       "      <td>182</td>\n",
       "      <td>Somalia</td>\n",
       "      <td>11</td>\n",
       "      <td>...</td>\n",
       "      <td>Casualty numbers for this attack represent an ...</td>\n",
       "      <td>\"11 dead, 40 injured in bomb attack in Somalia...</td>\n",
       "      <td>\"Somalia twin bombing toll rises to 11: police...</td>\n",
       "      <td>\"Somalia: Twin Suicide Attack at Mogadishu Hot...</td>\n",
       "      <td>START Primary Collection</td>\n",
       "      <td>0</td>\n",
       "      <td>0</td>\n",
       "      <td>0</td>\n",
       "      <td>0</td>\n",
       "      <td>201401010002, 201401010039, 201401010040</td>\n",
       "    </tr>\n",
       "    <tr>\n",
       "      <th>2</th>\n",
       "      <td>201401010003</td>\n",
       "      <td>2014</td>\n",
       "      <td>1</td>\n",
       "      <td>1</td>\n",
       "      <td>NaN</td>\n",
       "      <td>0</td>\n",
       "      <td>NaN</td>\n",
       "      <td>153</td>\n",
       "      <td>Pakistan</td>\n",
       "      <td>6</td>\n",
       "      <td>...</td>\n",
       "      <td>Casualty numbers for this attack conflict acro...</td>\n",
       "      <td>\"Pakistan car bombing kills Shia pilgrims,\" Al...</td>\n",
       "      <td>\"Suicide blast hits pilgrims' bus,\" Dawn (Paki...</td>\n",
       "      <td>\"Two dead, 31 injured in bus bombing in Pakist...</td>\n",
       "      <td>START Primary Collection</td>\n",
       "      <td>0</td>\n",
       "      <td>0</td>\n",
       "      <td>0</td>\n",
       "      <td>0</td>\n",
       "      <td>NaN</td>\n",
       "    </tr>\n",
       "    <tr>\n",
       "      <th>3</th>\n",
       "      <td>201401010004</td>\n",
       "      <td>2014</td>\n",
       "      <td>1</td>\n",
       "      <td>1</td>\n",
       "      <td>NaN</td>\n",
       "      <td>0</td>\n",
       "      <td>NaN</td>\n",
       "      <td>153</td>\n",
       "      <td>Pakistan</td>\n",
       "      <td>6</td>\n",
       "      <td>...</td>\n",
       "      <td>NaN</td>\n",
       "      <td>\"Highlights: Pakistan Balochistan Press 2 Janu...</td>\n",
       "      <td>NaN</td>\n",
       "      <td>NaN</td>\n",
       "      <td>START Primary Collection</td>\n",
       "      <td>-9</td>\n",
       "      <td>-9</td>\n",
       "      <td>0</td>\n",
       "      <td>-9</td>\n",
       "      <td>NaN</td>\n",
       "    </tr>\n",
       "    <tr>\n",
       "      <th>4</th>\n",
       "      <td>201401010005</td>\n",
       "      <td>2014</td>\n",
       "      <td>1</td>\n",
       "      <td>1</td>\n",
       "      <td>NaN</td>\n",
       "      <td>1</td>\n",
       "      <td>NaN</td>\n",
       "      <td>182</td>\n",
       "      <td>Somalia</td>\n",
       "      <td>11</td>\n",
       "      <td>...</td>\n",
       "      <td>NaN</td>\n",
       "      <td>\"Somalia: Al-Shabaab Militants Free Kidnapped ...</td>\n",
       "      <td>\"SOCAFRICA: Al-Shabaab Incident Tracker, 29 De...</td>\n",
       "      <td>NaN</td>\n",
       "      <td>START Primary Collection</td>\n",
       "      <td>0</td>\n",
       "      <td>0</td>\n",
       "      <td>0</td>\n",
       "      <td>0</td>\n",
       "      <td>NaN</td>\n",
       "    </tr>\n",
       "  </tbody>\n",
       "</table>\n",
       "<p>5 rows × 135 columns</p>\n",
       "</div>"
      ],
      "text/plain": [
       "        eventid  iyear  imonth  iday approxdate  extended  resolution  \\\n",
       "0  201401010001   2014       1     1        NaN         0         NaN   \n",
       "1  201401010002   2014       1     1        NaN         0         NaN   \n",
       "2  201401010003   2014       1     1        NaN         0         NaN   \n",
       "3  201401010004   2014       1     1        NaN         0         NaN   \n",
       "4  201401010005   2014       1     1        NaN         1         NaN   \n",
       "\n",
       "   country country_txt  region  \\\n",
       "0       45    Colombia       3   \n",
       "1      182     Somalia      11   \n",
       "2      153    Pakistan       6   \n",
       "3      153    Pakistan       6   \n",
       "4      182     Somalia      11   \n",
       "\n",
       "                         ...                          \\\n",
       "0                        ...                           \n",
       "1                        ...                           \n",
       "2                        ...                           \n",
       "3                        ...                           \n",
       "4                        ...                           \n",
       "\n",
       "                                            addnotes  \\\n",
       "0                                                NaN   \n",
       "1  Casualty numbers for this attack represent an ...   \n",
       "2  Casualty numbers for this attack conflict acro...   \n",
       "3                                                NaN   \n",
       "4                                                NaN   \n",
       "\n",
       "                                              scite1  \\\n",
       "0  \"ELN bomb Colombia oil pipeline infrastructure...   \n",
       "1  \"11 dead, 40 injured in bomb attack in Somalia...   \n",
       "2  \"Pakistan car bombing kills Shia pilgrims,\" Al...   \n",
       "3  \"Highlights: Pakistan Balochistan Press 2 Janu...   \n",
       "4  \"Somalia: Al-Shabaab Militants Free Kidnapped ...   \n",
       "\n",
       "                                              scite2  \\\n",
       "0  \"Colombia Guerrilla Update: ELN Blows Up Crude...   \n",
       "1  \"Somalia twin bombing toll rises to 11: police...   \n",
       "2  \"Suicide blast hits pilgrims' bus,\" Dawn (Paki...   \n",
       "3                                                NaN   \n",
       "4  \"SOCAFRICA: Al-Shabaab Incident Tracker, 29 De...   \n",
       "\n",
       "                                              scite3  \\\n",
       "0                                                NaN   \n",
       "1  \"Somalia: Twin Suicide Attack at Mogadishu Hot...   \n",
       "2  \"Two dead, 31 injured in bus bombing in Pakist...   \n",
       "3                                                NaN   \n",
       "4                                                NaN   \n",
       "\n",
       "                   dbsource  INT_LOG  INT_IDEO INT_MISC INT_ANY  \\\n",
       "0  START Primary Collection        0         0        0       0   \n",
       "1  START Primary Collection        0         0        0       0   \n",
       "2  START Primary Collection        0         0        0       0   \n",
       "3  START Primary Collection       -9        -9        0      -9   \n",
       "4  START Primary Collection        0         0        0       0   \n",
       "\n",
       "                                             related  \n",
       "0  201401010001, 201401010055, 201401010056, 2014...  \n",
       "1           201401010002, 201401010039, 201401010040  \n",
       "2                                                NaN  \n",
       "3                                                NaN  \n",
       "4                                                NaN  \n",
       "\n",
       "[5 rows x 135 columns]"
      ]
     },
     "execution_count": 5,
     "metadata": {},
     "output_type": "execute_result"
    }
   ],
   "source": [
    "#Importing and reaading Global Terrorist Database using Pandas\n",
    "excel_file = '../..Dataset/gtd_14to17_0718dist.xlsx'\n",
    "Raw_Dataset = pd.read_excel(excel_file)\n",
    "Raw_Dataset.head()"
   ]
  },
  {
   "cell_type": "code",
   "execution_count": 6,
   "metadata": {},
   "outputs": [],
   "source": [
    "#We will focus on those attacks only which were confirmed to be perpetrated by terrorist organisation\n",
    "Dataset = Raw_Dataset[(Raw_Dataset.crit1 == 1) & \n",
    "                      (Raw_Dataset.crit2 == 1) & \n",
    "                      (Raw_Dataset.crit3 == 1) & \n",
    "                      (Raw_Dataset.doubtterr == 0)]"
   ]
  },
  {
   "cell_type": "code",
   "execution_count": 7,
   "metadata": {
    "scrolled": true
   },
   "outputs": [],
   "source": [
    "#Importing columns for dataset preparation\n",
    "features = Dataset.loc[:,['extended',\n",
    "                          'country',\n",
    "                          'region',\n",
    "                          'vicinity',\n",
    "                          'attacktype1',\n",
    "                          'targtype1',\n",
    "                          'natlty1',\n",
    "                          'weaptype1',\n",
    "                          'weapsubtype1',\n",
    "                          'summary',\n",
    "                          'gname']]"
   ]
  },
  {
   "cell_type": "code",
   "execution_count": 8,
   "metadata": {},
   "outputs": [],
   "source": [
    "#Dropping rows that are empty \n",
    "features = features.dropna() "
   ]
  },
  {
   "cell_type": "code",
   "execution_count": 9,
   "metadata": {},
   "outputs": [],
   "source": [
    "#Preparing target values and labeling\n",
    "label_encoder.fit(features['gname'])\n",
    "target = label_encoder.fit_transform(features['gname'])\n",
    "#Y  = X.loc[:,['gname']]"
   ]
  },
  {
   "cell_type": "code",
   "execution_count": 10,
   "metadata": {},
   "outputs": [],
   "source": [
    "#Here we tokenize words in summary to make it a feature\n",
    "tokenizer = Tokenizer(num_words=20000)\n",
    "tokenizer.fit_on_texts(features['summary'])\n",
    "\n",
    "x_seq = tokenizer.texts_to_sequences(features[\"summary\"])\n",
    "\n",
    "features_summary = sequence.pad_sequences(x_seq, maxlen=100, padding=\"post\", value=0)"
   ]
  },
  {
   "cell_type": "code",
   "execution_count": 11,
   "metadata": {},
   "outputs": [],
   "source": [
    "#We will now convert pandas dataframe to numpy arrays for processing \n",
    "features = features.values\n",
    "#Y = Y.values"
   ]
  },
  {
   "cell_type": "code",
   "execution_count": 12,
   "metadata": {
    "scrolled": true
   },
   "outputs": [
    {
     "name": "stderr",
     "output_type": "stream",
     "text": [
      "C:\\ProgramData\\Anaconda3\\lib\\site-packages\\sklearn\\utils\\validation.py:475: DataConversionWarning: Data with input dtype int32 was converted to float64 by StandardScaler.\n",
      "  warnings.warn(msg, DataConversionWarning)\n",
      "C:\\ProgramData\\Anaconda3\\lib\\site-packages\\sklearn\\utils\\validation.py:475: DataConversionWarning: Data with input dtype object was converted to float64 by StandardScaler.\n",
      "  warnings.warn(msg, DataConversionWarning)\n"
     ]
    }
   ],
   "source": [
    "#values are scaled for more accuracy \n",
    "features_summary = scale_values.fit_transform(features_summary)\n",
    "features[:,:-2] = scale_values.fit_transform(features[:,:-2])\n",
    "#Y = Y.reshape(-1,1)\n",
    "#Y = scaler.fit_transform(Y)"
   ]
  },
  {
   "cell_type": "code",
   "execution_count": 13,
   "metadata": {},
   "outputs": [],
   "source": [
    "#Array with tokenize summary and array with other features are combined here to generate a single array\n",
    "features = np.concatenate((features[:,:-2],features_summary), axis = 1)"
   ]
  },
  {
   "cell_type": "code",
   "execution_count": 14,
   "metadata": {},
   "outputs": [
    {
     "name": "stdout",
     "output_type": "stream",
     "text": [
      "(32490, 109) (32490,)\n",
      "(8123, 109) (8123,)\n"
     ]
    }
   ],
   "source": [
    "#spliting of array to train and test samples\n",
    "x_train, x_test, y_train, y_test = train_test_split(features, \n",
    "                                                    target, \n",
    "                                                    test_size=0.20, \n",
    "                                                    random_state=42)\n",
    "#shapes are displayed of repective arrays\n",
    "print (x_train.shape,y_train.shape)\n",
    "print (x_test.shape,y_test.shape)"
   ]
  },
  {
   "cell_type": "code",
   "execution_count": 15,
   "metadata": {
    "scrolled": false
   },
   "outputs": [
    {
     "data": {
      "text/plain": [
       "69.19857195617382"
      ]
     },
     "execution_count": 15,
     "metadata": {},
     "output_type": "execute_result"
    }
   ],
   "source": [
    "#Bagging Classifier as Model\n",
    "rf.fit(x_train,y_train)\n",
    "rf.score(x_test,y_test)*100"
   ]
  },
  {
   "cell_type": "code",
   "execution_count": 16,
   "metadata": {
    "scrolled": true
   },
   "outputs": [
    {
     "data": {
      "text/plain": [
       "76.80659854733473"
      ]
     },
     "execution_count": 16,
     "metadata": {},
     "output_type": "execute_result"
    }
   ],
   "source": [
    "#Extra Tree Classifier as Model\n",
    "et.fit(x_train,y_train)\n",
    "et.score(x_test,y_test)*100"
   ]
  },
  {
   "cell_type": "code",
   "execution_count": 17,
   "metadata": {},
   "outputs": [
    {
     "data": {
      "text/plain": [
       "54.967376585005546"
      ]
     },
     "execution_count": 17,
     "metadata": {},
     "output_type": "execute_result"
    }
   ],
   "source": [
    "#KNN as Model\n",
    "knn.fit(x_train,y_train)\n",
    "knn.score(x_test,y_test)*100"
   ]
  },
  {
   "cell_type": "code",
   "execution_count": 18,
   "metadata": {
    "scrolled": true
   },
   "outputs": [
    {
     "data": {
      "text/plain": [
       "56.653945586605936"
      ]
     },
     "execution_count": 18,
     "metadata": {},
     "output_type": "execute_result"
    }
   ],
   "source": [
    "#SVM or Support Vector Machine\n",
    "svc.fit(x_train,y_train)\n",
    "svc.score(x_test,y_test)*100"
   ]
  },
  {
   "cell_type": "code",
   "execution_count": 19,
   "metadata": {},
   "outputs": [
    {
     "data": {
      "text/plain": [
       "50.473962821617626"
      ]
     },
     "execution_count": 19,
     "metadata": {},
     "output_type": "execute_result"
    }
   ],
   "source": [
    "#Ridge Classifier as Model\n",
    "rg.fit(x_train,y_train)\n",
    "rg.score(x_test,y_test)*100"
   ]
  },
  {
   "cell_type": "code",
   "execution_count": 20,
   "metadata": {
    "scrolled": true
   },
   "outputs": [
    {
     "data": {
      "text/plain": [
       "55.52135910377939"
      ]
     },
     "execution_count": 20,
     "metadata": {},
     "output_type": "execute_result"
    }
   ],
   "source": [
    "gnb.fit(x_train,y_train)\n",
    "gnb.score(x_test,y_test)*100"
   ]
  }
 ],
 "metadata": {
  "kernelspec": {
   "display_name": "Python 3",
   "language": "python",
   "name": "python3"
  },
  "language_info": {
   "codemirror_mode": {
    "name": "ipython",
    "version": 3
   },
   "file_extension": ".py",
   "mimetype": "text/x-python",
   "name": "python",
   "nbconvert_exporter": "python",
   "pygments_lexer": "ipython3",
   "version": "3.6.4"
  }
 },
 "nbformat": 4,
 "nbformat_minor": 2
}
