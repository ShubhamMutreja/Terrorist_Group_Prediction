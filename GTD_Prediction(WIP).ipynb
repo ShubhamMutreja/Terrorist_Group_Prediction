{
  "nbformat": 4,
  "nbformat_minor": 0,
  "metadata": {
    "colab": {
      "name": "GTD_Fellowship-Copy1.ipynb",
      "version": "0.3.2",
      "provenance": []
    },
    "kernelspec": {
      "name": "python3",
      "display_name": "Python 3"
    },
    "accelerator": "GPU"
  },
  "cells": [
    {
      "metadata": {
        "scrolled": false,
        "id": "EHMwbyiWm0pf",
        "colab_type": "code",
        "colab": {}
      },
      "cell_type": "code",
      "source": [
        "#Importing libraries\n",
        "import numpy as np\n",
        "import pandas as pd\n",
        "\n",
        "from keras.models import Sequential\n",
        "from keras.models import Model\n",
        "from keras.layers import Dense\n",
        "from keras.layers import Dropout\n",
        "from keras.layers import Activation\n",
        "from keras.layers import Input\n",
        "from keras.layers import Flatten\n",
        "from keras.layers.recurrent import LSTM\n",
        "from keras.layers.embeddings import Embedding\n",
        "from keras.layers.merge import concatenate\n",
        "\n",
        "from keras.preprocessing.text import Tokenizer\n",
        "from keras.preprocessing import sequence\n",
        "\n",
        "from sklearn.model_selection import train_test_split\n",
        "from sklearn.preprocessing import StandardScaler\n",
        "from sklearn.preprocessing import LabelEncoder"
      ],
      "execution_count": 0,
      "outputs": []
    },
    {
      "metadata": {
        "scrolled": true,
        "id": "rtxLrl9Km0pr",
        "colab_type": "code",
        "colab": {}
      },
      "cell_type": "code",
      "source": [
        "#Label Encoder to encode names of Terrorist Organisations\n",
        "label_encoder = LabelEncoder()"
      ],
      "execution_count": 0,
      "outputs": []
    },
    {
      "metadata": {
        "id": "qKwaCCIJm0px",
        "colab_type": "code",
        "colab": {}
      },
      "cell_type": "code",
      "source": [
        "#Scaling values for higher accuracy\n",
        "scale_values  = StandardScaler()"
      ],
      "execution_count": 0,
      "outputs": []
    },
    {
      "metadata": {
        "id": "WSuW7Egxm9t-",
        "colab_type": "code",
        "colab": {
          "base_uri": "https://localhost:8080/",
          "height": 120
        },
        "outputId": "f1fe34bb-24a2-4e23-f4f3-eddb2f868d8d"
      },
      "cell_type": "code",
      "source": [
        "from google.colab import drive\n",
        "drive.mount('/content/drive')"
      ],
      "execution_count": 14,
      "outputs": [
        {
          "output_type": "stream",
          "text": [
            "Go to this URL in a browser: https://accounts.google.com/o/oauth2/auth?client_id=947318989803-6bn6qk8qdgf4n4g3pfee6491hc0brc4i.apps.googleusercontent.com&redirect_uri=urn%3Aietf%3Awg%3Aoauth%3A2.0%3Aoob&scope=email%20https%3A%2F%2Fwww.googleapis.com%2Fauth%2Fdocs.test%20https%3A%2F%2Fwww.googleapis.com%2Fauth%2Fdrive%20https%3A%2F%2Fwww.googleapis.com%2Fauth%2Fdrive.photos.readonly%20https%3A%2F%2Fwww.googleapis.com%2Fauth%2Fpeopleapi.readonly&response_type=code\n",
            "\n",
            "Enter your authorization code:\n",
            "··········\n",
            "Mounted at /content/drive\n"
          ],
          "name": "stdout"
        }
      ]
    },
    {
      "metadata": {
        "id": "OWxXWCLNnUjM",
        "colab_type": "code",
        "colab": {}
      },
      "cell_type": "code",
      "source": [
        "df2 = pd.read_excel('/content/drive/My Drive/globalterrorismdb_0718dist.xlsx')"
      ],
      "execution_count": 0,
      "outputs": []
    },
    {
      "metadata": {
        "id": "_yES1nUlm0p7",
        "colab_type": "code",
        "colab": {
          "base_uri": "https://localhost:8080/",
          "height": 263
        },
        "outputId": "4e05339f-32b5-4c87-de90-092da4ce9312"
      },
      "cell_type": "code",
      "source": [
        "#Importing and reaading Global Terrorist Database using Pandas\n",
        "Raw_Dataset = df2\n",
        "Raw_Dataset.head()"
      ],
      "execution_count": 24,
      "outputs": [
        {
          "output_type": "execute_result",
          "data": {
            "text/html": [
              "<div>\n",
              "<style scoped>\n",
              "    .dataframe tbody tr th:only-of-type {\n",
              "        vertical-align: middle;\n",
              "    }\n",
              "\n",
              "    .dataframe tbody tr th {\n",
              "        vertical-align: top;\n",
              "    }\n",
              "\n",
              "    .dataframe thead th {\n",
              "        text-align: right;\n",
              "    }\n",
              "</style>\n",
              "<table border=\"1\" class=\"dataframe\">\n",
              "  <thead>\n",
              "    <tr style=\"text-align: right;\">\n",
              "      <th></th>\n",
              "      <th>eventid</th>\n",
              "      <th>iyear</th>\n",
              "      <th>imonth</th>\n",
              "      <th>iday</th>\n",
              "      <th>approxdate</th>\n",
              "      <th>extended</th>\n",
              "      <th>resolution</th>\n",
              "      <th>country</th>\n",
              "      <th>country_txt</th>\n",
              "      <th>region</th>\n",
              "      <th>...</th>\n",
              "      <th>addnotes</th>\n",
              "      <th>scite1</th>\n",
              "      <th>scite2</th>\n",
              "      <th>scite3</th>\n",
              "      <th>dbsource</th>\n",
              "      <th>INT_LOG</th>\n",
              "      <th>INT_IDEO</th>\n",
              "      <th>INT_MISC</th>\n",
              "      <th>INT_ANY</th>\n",
              "      <th>related</th>\n",
              "    </tr>\n",
              "  </thead>\n",
              "  <tbody>\n",
              "    <tr>\n",
              "      <th>0</th>\n",
              "      <td>197000000001</td>\n",
              "      <td>1970</td>\n",
              "      <td>7</td>\n",
              "      <td>2</td>\n",
              "      <td>NaN</td>\n",
              "      <td>0</td>\n",
              "      <td>NaT</td>\n",
              "      <td>58</td>\n",
              "      <td>Dominican Republic</td>\n",
              "      <td>2</td>\n",
              "      <td>...</td>\n",
              "      <td>NaN</td>\n",
              "      <td>NaN</td>\n",
              "      <td>NaN</td>\n",
              "      <td>NaN</td>\n",
              "      <td>PGIS</td>\n",
              "      <td>0</td>\n",
              "      <td>0</td>\n",
              "      <td>0</td>\n",
              "      <td>0</td>\n",
              "      <td>NaN</td>\n",
              "    </tr>\n",
              "    <tr>\n",
              "      <th>1</th>\n",
              "      <td>197000000002</td>\n",
              "      <td>1970</td>\n",
              "      <td>0</td>\n",
              "      <td>0</td>\n",
              "      <td>NaN</td>\n",
              "      <td>0</td>\n",
              "      <td>NaT</td>\n",
              "      <td>130</td>\n",
              "      <td>Mexico</td>\n",
              "      <td>1</td>\n",
              "      <td>...</td>\n",
              "      <td>NaN</td>\n",
              "      <td>NaN</td>\n",
              "      <td>NaN</td>\n",
              "      <td>NaN</td>\n",
              "      <td>PGIS</td>\n",
              "      <td>0</td>\n",
              "      <td>1</td>\n",
              "      <td>1</td>\n",
              "      <td>1</td>\n",
              "      <td>NaN</td>\n",
              "    </tr>\n",
              "    <tr>\n",
              "      <th>2</th>\n",
              "      <td>197001000001</td>\n",
              "      <td>1970</td>\n",
              "      <td>1</td>\n",
              "      <td>0</td>\n",
              "      <td>NaN</td>\n",
              "      <td>0</td>\n",
              "      <td>NaT</td>\n",
              "      <td>160</td>\n",
              "      <td>Philippines</td>\n",
              "      <td>5</td>\n",
              "      <td>...</td>\n",
              "      <td>NaN</td>\n",
              "      <td>NaN</td>\n",
              "      <td>NaN</td>\n",
              "      <td>NaN</td>\n",
              "      <td>PGIS</td>\n",
              "      <td>-9</td>\n",
              "      <td>-9</td>\n",
              "      <td>1</td>\n",
              "      <td>1</td>\n",
              "      <td>NaN</td>\n",
              "    </tr>\n",
              "    <tr>\n",
              "      <th>3</th>\n",
              "      <td>197001000002</td>\n",
              "      <td>1970</td>\n",
              "      <td>1</td>\n",
              "      <td>0</td>\n",
              "      <td>NaN</td>\n",
              "      <td>0</td>\n",
              "      <td>NaT</td>\n",
              "      <td>78</td>\n",
              "      <td>Greece</td>\n",
              "      <td>8</td>\n",
              "      <td>...</td>\n",
              "      <td>NaN</td>\n",
              "      <td>NaN</td>\n",
              "      <td>NaN</td>\n",
              "      <td>NaN</td>\n",
              "      <td>PGIS</td>\n",
              "      <td>-9</td>\n",
              "      <td>-9</td>\n",
              "      <td>1</td>\n",
              "      <td>1</td>\n",
              "      <td>NaN</td>\n",
              "    </tr>\n",
              "    <tr>\n",
              "      <th>4</th>\n",
              "      <td>197001000003</td>\n",
              "      <td>1970</td>\n",
              "      <td>1</td>\n",
              "      <td>0</td>\n",
              "      <td>NaN</td>\n",
              "      <td>0</td>\n",
              "      <td>NaT</td>\n",
              "      <td>101</td>\n",
              "      <td>Japan</td>\n",
              "      <td>4</td>\n",
              "      <td>...</td>\n",
              "      <td>NaN</td>\n",
              "      <td>NaN</td>\n",
              "      <td>NaN</td>\n",
              "      <td>NaN</td>\n",
              "      <td>PGIS</td>\n",
              "      <td>-9</td>\n",
              "      <td>-9</td>\n",
              "      <td>1</td>\n",
              "      <td>1</td>\n",
              "      <td>NaN</td>\n",
              "    </tr>\n",
              "  </tbody>\n",
              "</table>\n",
              "<p>5 rows × 135 columns</p>\n",
              "</div>"
            ],
            "text/plain": [
              "        eventid  iyear  imonth  iday approxdate  extended resolution  country  \\\n",
              "0  197000000001   1970       7     2        NaN         0        NaT       58   \n",
              "1  197000000002   1970       0     0        NaN         0        NaT      130   \n",
              "2  197001000001   1970       1     0        NaN         0        NaT      160   \n",
              "3  197001000002   1970       1     0        NaN         0        NaT       78   \n",
              "4  197001000003   1970       1     0        NaN         0        NaT      101   \n",
              "\n",
              "          country_txt  region   ...    addnotes scite1 scite2  scite3  \\\n",
              "0  Dominican Republic       2   ...         NaN    NaN    NaN     NaN   \n",
              "1              Mexico       1   ...         NaN    NaN    NaN     NaN   \n",
              "2         Philippines       5   ...         NaN    NaN    NaN     NaN   \n",
              "3              Greece       8   ...         NaN    NaN    NaN     NaN   \n",
              "4               Japan       4   ...         NaN    NaN    NaN     NaN   \n",
              "\n",
              "   dbsource  INT_LOG  INT_IDEO INT_MISC INT_ANY  related  \n",
              "0      PGIS        0         0        0       0      NaN  \n",
              "1      PGIS        0         1        1       1      NaN  \n",
              "2      PGIS       -9        -9        1       1      NaN  \n",
              "3      PGIS       -9        -9        1       1      NaN  \n",
              "4      PGIS       -9        -9        1       1      NaN  \n",
              "\n",
              "[5 rows x 135 columns]"
            ]
          },
          "metadata": {
            "tags": []
          },
          "execution_count": 24
        }
      ]
    },
    {
      "metadata": {
        "id": "m--rV35Pm0qF",
        "colab_type": "code",
        "colab": {}
      },
      "cell_type": "code",
      "source": [
        "#We will focus on those attacks only which were confirmed to be perpetrated by terrorist organisation\n",
        "Dataset = Raw_Dataset[(Raw_Dataset.crit1 == 1) & \n",
        "                      (Raw_Dataset.crit2 == 1) & \n",
        "                      (Raw_Dataset.crit3 == 1) & \n",
        "                      (Raw_Dataset.doubtterr == 0)]"
      ],
      "execution_count": 0,
      "outputs": []
    },
    {
      "metadata": {
        "scrolled": true,
        "id": "gfUYPETem0qK",
        "colab_type": "code",
        "colab": {}
      },
      "cell_type": "code",
      "source": [
        "#Importing columns for dataset preparation\n",
        "features = Dataset.loc[:,['extended',\n",
        "                          'country',\n",
        "                          'region',\n",
        "                          'vicinity',\n",
        "                          'attacktype1',\n",
        "                          'targtype1',\n",
        "                          'natlty1',\n",
        "                          'weaptype1',\n",
        "                          'weapsubtype1',\n",
        "                          'summary',\n",
        "                          'gname']]"
      ],
      "execution_count": 0,
      "outputs": []
    },
    {
      "metadata": {
        "id": "BwdNnjXNm0qQ",
        "colab_type": "code",
        "colab": {}
      },
      "cell_type": "code",
      "source": [
        "#Dropping rows that are empty \n",
        "features = features.dropna() "
      ],
      "execution_count": 0,
      "outputs": []
    },
    {
      "metadata": {
        "id": "GKeHrYC7m0qX",
        "colab_type": "code",
        "colab": {}
      },
      "cell_type": "code",
      "source": [
        "#Preparing target values and labeling\n",
        "label_encoder.fit(features['gname'])\n",
        "target = label_encoder.fit_transform(features['gname'])\n",
        "#Y  = X.loc[:,['gname']]"
      ],
      "execution_count": 0,
      "outputs": []
    },
    {
      "metadata": {
        "id": "-5B-GF6_m0ql",
        "colab_type": "code",
        "colab": {}
      },
      "cell_type": "code",
      "source": [
        "#Here we tokenize words in summary to make it a feature\n",
        "tokenizer = Tokenizer(num_words=20000)\n",
        "tokenizer.fit_on_texts(features['summary'])\n",
        "\n",
        "x_seq = tokenizer.texts_to_sequences(features[\"summary\"])\n",
        "\n",
        "features_summary = sequence.pad_sequences(x_seq, maxlen=500, padding=\"post\", value=0)"
      ],
      "execution_count": 0,
      "outputs": []
    },
    {
      "metadata": {
        "id": "4GM7hUgzm0qr",
        "colab_type": "code",
        "colab": {}
      },
      "cell_type": "code",
      "source": [
        "#We will now convert pandas dataframe to numpy arrays for processing \n",
        "features = features.values\n"
      ],
      "execution_count": 0,
      "outputs": []
    },
    {
      "metadata": {
        "id": "wKGnFGZMyVXJ",
        "colab_type": "code",
        "colab": {
          "base_uri": "https://localhost:8080/",
          "height": 33
        },
        "outputId": "74f6c682-2d66-4fb9-b6dc-9fdcb8b073bb"
      },
      "cell_type": "code",
      "source": [
        "features.shape"
      ],
      "execution_count": 31,
      "outputs": [
        {
          "output_type": "execute_result",
          "data": {
            "text/plain": [
              "(88876, 11)"
            ]
          },
          "metadata": {
            "tags": []
          },
          "execution_count": 31
        }
      ]
    },
    {
      "metadata": {
        "scrolled": true,
        "id": "3rDpIvoHm0qw",
        "colab_type": "code",
        "colab": {
          "base_uri": "https://localhost:8080/",
          "height": 216
        },
        "outputId": "7fdfc2d1-58fc-4b20-c012-6315f49f4caa"
      },
      "cell_type": "code",
      "source": [
        "#values are scaled for more accuracy \n",
        "features_summary = scale_values.fit_transform(features_summary)\n",
        "features[:,:-2] = scale_values.fit_transform(features[:,:-2])\n",
        "Y = target.reshape(-1,1)\n",
        "from sklearn.preprocessing import MinMaxScaler as scaler\n",
        "Y = scale_values.fit_transform(Y)"
      ],
      "execution_count": 32,
      "outputs": [
        {
          "output_type": "stream",
          "text": [
            "/usr/local/lib/python3.6/dist-packages/sklearn/utils/validation.py:595: DataConversionWarning: Data with input dtype int32 was converted to float64 by StandardScaler.\n",
            "  warnings.warn(msg, DataConversionWarning)\n",
            "/usr/local/lib/python3.6/dist-packages/sklearn/utils/validation.py:595: DataConversionWarning: Data with input dtype int32 was converted to float64 by StandardScaler.\n",
            "  warnings.warn(msg, DataConversionWarning)\n",
            "/usr/local/lib/python3.6/dist-packages/sklearn/utils/validation.py:595: DataConversionWarning: Data with input dtype object was converted to float64 by StandardScaler.\n",
            "  warnings.warn(msg, DataConversionWarning)\n",
            "/usr/local/lib/python3.6/dist-packages/sklearn/utils/validation.py:595: DataConversionWarning: Data with input dtype object was converted to float64 by StandardScaler.\n",
            "  warnings.warn(msg, DataConversionWarning)\n",
            "/usr/local/lib/python3.6/dist-packages/sklearn/utils/validation.py:595: DataConversionWarning: Data with input dtype int64 was converted to float64 by StandardScaler.\n",
            "  warnings.warn(msg, DataConversionWarning)\n",
            "/usr/local/lib/python3.6/dist-packages/sklearn/utils/validation.py:595: DataConversionWarning: Data with input dtype int64 was converted to float64 by StandardScaler.\n",
            "  warnings.warn(msg, DataConversionWarning)\n"
          ],
          "name": "stderr"
        }
      ]
    },
    {
      "metadata": {
        "id": "L5CgEl2byha4",
        "colab_type": "code",
        "colab": {
          "base_uri": "https://localhost:8080/",
          "height": 33
        },
        "outputId": "3958acb3-7d8f-4a0d-da33-85689ec81cb4"
      },
      "cell_type": "code",
      "source": [
        "features_summary.shape"
      ],
      "execution_count": 33,
      "outputs": [
        {
          "output_type": "execute_result",
          "data": {
            "text/plain": [
              "(88876, 500)"
            ]
          },
          "metadata": {
            "tags": []
          },
          "execution_count": 33
        }
      ]
    },
    {
      "metadata": {
        "id": "R6r5VMumm0q6",
        "colab_type": "code",
        "colab": {}
      },
      "cell_type": "code",
      "source": [
        "#Array with tokenize summary and array with other features are combined here to generate a single array\n",
        "features_combine = np.concatenate((features[:,:-2],\n",
        "                                   features_summary),\n",
        "                                   axis = 1)"
      ],
      "execution_count": 0,
      "outputs": []
    },
    {
      "metadata": {
        "id": "BhFoaBjGys7o",
        "colab_type": "code",
        "colab": {
          "base_uri": "https://localhost:8080/",
          "height": 33
        },
        "outputId": "7ffaecc3-9a70-491b-f132-091cbd796d12"
      },
      "cell_type": "code",
      "source": [
        "features_combine.shape"
      ],
      "execution_count": 35,
      "outputs": [
        {
          "output_type": "execute_result",
          "data": {
            "text/plain": [
              "(88876, 509)"
            ]
          },
          "metadata": {
            "tags": []
          },
          "execution_count": 35
        }
      ]
    },
    {
      "metadata": {
        "id": "DJmgq6nYm0rA",
        "colab_type": "code",
        "colab": {
          "base_uri": "https://localhost:8080/",
          "height": 50
        },
        "outputId": "09360ec2-bf96-4a69-f801-af6f4462ab05"
      },
      "cell_type": "code",
      "source": [
        "#spliting of array to train and test samples\n",
        "x_train, x_test, y_train, y_test = train_test_split(features_combine, \n",
        "                                                    target, \n",
        "                                                    test_size=0.30, \n",
        "                                                    random_state=42)\n",
        "#shapes are displayed of repective arrays\n",
        "print (x_train.shape,y_train.shape)\n",
        "print (x_test.shape,y_test.shape)"
      ],
      "execution_count": 36,
      "outputs": [
        {
          "output_type": "stream",
          "text": [
            "(62213, 509) (62213,)\n",
            "(26663, 509) (26663,)\n"
          ],
          "name": "stdout"
        }
      ]
    },
    {
      "metadata": {
        "id": "MICkpu8Zwn7_",
        "colab_type": "text"
      },
      "cell_type": "markdown",
      "source": [
        ""
      ]
    },
    {
      "metadata": {
        "id": "KFbT8lcRnnbe",
        "colab_type": "code",
        "colab": {
          "base_uri": "https://localhost:8080/",
          "height": 766
        },
        "outputId": "de4791fb-2d40-4541-911c-56f626bdabb5"
      },
      "cell_type": "code",
      "source": [
        "\n",
        "# first input model\n",
        "visible1 = Input(shape=(9,))\n",
        "hidden1 = Dense(320, activation='relu')(visible1)\n",
        "hidden2 = Dense(640, activation='relu')(hidden1)\n",
        "hidden3 = Dense(640, activation='relu')(hidden2)\n",
        "output1 = Dense(1200, activation='relu')(hidden3)\n",
        "# second input model\n",
        "visible2 = Input(shape=(500,))\n",
        "hidden4 = Dense(320, activation='relu')(visible2)\n",
        "hidden5 = Dense(640, activation='relu')(hidden4)\n",
        "hidden6 = Dense(640, activation='relu')(hidden5)\n",
        "output2 = Dense(120, activation='relu')(hidden6)\n",
        "# merge input models\n",
        "merge = concatenate([output1, output2])\n",
        "# interpretation model\n",
        "hidden7 = Dense(320, activation='relu')(merge)\n",
        "hidden8 = Dense(320, activation='relu')(hidden7)\n",
        "hidden9 = Dense(320, activation='relu')(hidden8)\n",
        "hidden10 = Dense(320, activation='relu')(hidden9)\n",
        "hidden11 = Dense(320, activation='relu')(hidden10)\n",
        "hidden12 = Dense(320, activation='relu')(hidden11)\n",
        "output = Dense(len(np.unique(target)), activation='softmax')(hidden12)\n",
        "model = Model(inputs=[visible1, visible2], outputs=output)\n",
        "# summarize layers\n",
        "print(model.summary())"
      ],
      "execution_count": 43,
      "outputs": [
        {
          "output_type": "stream",
          "text": [
            "__________________________________________________________________________________________________\n",
            "Layer (type)                    Output Shape         Param #     Connected to                     \n",
            "==================================================================================================\n",
            "input_6 (InputLayer)            (None, 9)            0                                            \n",
            "__________________________________________________________________________________________________\n",
            "input_7 (InputLayer)            (None, 500)          0                                            \n",
            "__________________________________________________________________________________________________\n",
            "dense_34 (Dense)                (None, 320)          3200        input_6[0][0]                    \n",
            "__________________________________________________________________________________________________\n",
            "dense_38 (Dense)                (None, 320)          160320      input_7[0][0]                    \n",
            "__________________________________________________________________________________________________\n",
            "dense_35 (Dense)                (None, 640)          205440      dense_34[0][0]                   \n",
            "__________________________________________________________________________________________________\n",
            "dense_39 (Dense)                (None, 640)          205440      dense_38[0][0]                   \n",
            "__________________________________________________________________________________________________\n",
            "dense_36 (Dense)                (None, 640)          410240      dense_35[0][0]                   \n",
            "__________________________________________________________________________________________________\n",
            "dense_40 (Dense)                (None, 640)          410240      dense_39[0][0]                   \n",
            "__________________________________________________________________________________________________\n",
            "dense_37 (Dense)                (None, 1200)         769200      dense_36[0][0]                   \n",
            "__________________________________________________________________________________________________\n",
            "dense_41 (Dense)                (None, 120)          76920       dense_40[0][0]                   \n",
            "__________________________________________________________________________________________________\n",
            "concatenate_3 (Concatenate)     (None, 1320)         0           dense_37[0][0]                   \n",
            "                                                                 dense_41[0][0]                   \n",
            "__________________________________________________________________________________________________\n",
            "dense_42 (Dense)                (None, 320)          422720      concatenate_3[0][0]              \n",
            "__________________________________________________________________________________________________\n",
            "dense_43 (Dense)                (None, 320)          102720      dense_42[0][0]                   \n",
            "__________________________________________________________________________________________________\n",
            "dense_44 (Dense)                (None, 320)          102720      dense_43[0][0]                   \n",
            "__________________________________________________________________________________________________\n",
            "dense_45 (Dense)                (None, 320)          102720      dense_44[0][0]                   \n",
            "__________________________________________________________________________________________________\n",
            "dense_46 (Dense)                (None, 320)          102720      dense_45[0][0]                   \n",
            "__________________________________________________________________________________________________\n",
            "dense_47 (Dense)                (None, 320)          102720      dense_46[0][0]                   \n",
            "__________________________________________________________________________________________________\n",
            "dense_48 (Dense)                (None, 1473)         472833      dense_47[0][0]                   \n",
            "==================================================================================================\n",
            "Total params: 3,650,153\n",
            "Trainable params: 3,650,153\n",
            "Non-trainable params: 0\n",
            "__________________________________________________________________________________________________\n",
            "None\n"
          ],
          "name": "stdout"
        }
      ]
    },
    {
      "metadata": {
        "id": "wCoBms4H3B_K",
        "colab_type": "code",
        "colab": {
          "base_uri": "https://localhost:8080/",
          "height": 33
        },
        "outputId": "262f9cc7-7fae-4e8e-e095-4f7a2c5edc49"
      },
      "cell_type": "code",
      "source": [
        "len(np.unique(target))"
      ],
      "execution_count": 40,
      "outputs": [
        {
          "output_type": "execute_result",
          "data": {
            "text/plain": [
              "1473"
            ]
          },
          "metadata": {
            "tags": []
          },
          "execution_count": 40
        }
      ]
    },
    {
      "metadata": {
        "id": "p_u_YEIq_9dp",
        "colab_type": "code",
        "colab": {}
      },
      "cell_type": "code",
      "source": [
        "model.compile(loss='sparse_categorical_crossentropy', optimizer='adam', metrics=['accuracy'])"
      ],
      "execution_count": 0,
      "outputs": []
    },
    {
      "metadata": {
        "id": "NGwSzPzd7jIH",
        "colab_type": "code",
        "colab": {
          "base_uri": "https://localhost:8080/",
          "height": 3383
        },
        "outputId": "36411f4e-784b-4b1e-ce98-6e4d8c682648"
      },
      "cell_type": "code",
      "source": [
        "model.fit([x_train[:,:9],\n",
        "          x_train[:,9:]],\n",
        "          y_train, epochs=100,\n",
        "          \n",
        "          \n",
        "          \n",
        "          validation_data=([x_test[:,:9],\n",
        "                           x_test[:,9:]],\n",
        "                           y_test),\n",
        "                           verbose=2)"
      ],
      "execution_count": 46,
      "outputs": [
        {
          "output_type": "stream",
          "text": [
            "Train on 62213 samples, validate on 26663 samples\n",
            "Epoch 1/100\n",
            " - 29s - loss: 1.5631 - acc: 0.6212 - val_loss: 1.4255 - val_acc: 0.6607\n",
            "Epoch 2/100\n",
            " - 29s - loss: 1.2283 - acc: 0.6693 - val_loss: 1.2907 - val_acc: 0.6867\n",
            "Epoch 3/100\n",
            " - 29s - loss: 1.1327 - acc: 0.6894 - val_loss: 1.2652 - val_acc: 0.6803\n",
            "Epoch 4/100\n",
            " - 29s - loss: 1.0577 - acc: 0.7050 - val_loss: 1.3432 - val_acc: 0.6646\n",
            "Epoch 5/100\n",
            " - 29s - loss: 1.0258 - acc: 0.7150 - val_loss: 1.2093 - val_acc: 0.7017\n",
            "Epoch 6/100\n",
            " - 29s - loss: 0.9829 - acc: 0.7244 - val_loss: 1.2552 - val_acc: 0.7034\n",
            "Epoch 7/100\n",
            " - 29s - loss: 0.9539 - acc: 0.7320 - val_loss: 1.2564 - val_acc: 0.6987\n",
            "Epoch 8/100\n",
            " - 29s - loss: 0.9280 - acc: 0.7384 - val_loss: 1.2084 - val_acc: 0.7121\n",
            "Epoch 9/100\n",
            " - 29s - loss: 0.9108 - acc: 0.7439 - val_loss: 1.1956 - val_acc: 0.7078\n",
            "Epoch 10/100\n",
            " - 28s - loss: 0.8848 - acc: 0.7503 - val_loss: 1.2147 - val_acc: 0.7105\n",
            "Epoch 11/100\n",
            " - 29s - loss: 0.8653 - acc: 0.7560 - val_loss: 1.2059 - val_acc: 0.7063\n",
            "Epoch 12/100\n",
            " - 29s - loss: 0.8455 - acc: 0.7602 - val_loss: 1.2197 - val_acc: 0.7173\n",
            "Epoch 13/100\n",
            " - 29s - loss: 0.8175 - acc: 0.7668 - val_loss: 1.1967 - val_acc: 0.7152\n",
            "Epoch 14/100\n",
            " - 29s - loss: 0.8065 - acc: 0.7711 - val_loss: 1.2468 - val_acc: 0.7164\n",
            "Epoch 15/100\n",
            " - 29s - loss: 0.8009 - acc: 0.7750 - val_loss: 1.2485 - val_acc: 0.7194\n",
            "Epoch 16/100\n",
            " - 29s - loss: 0.7830 - acc: 0.7790 - val_loss: 1.2942 - val_acc: 0.7093\n",
            "Epoch 17/100\n",
            " - 29s - loss: 0.7669 - acc: 0.7832 - val_loss: 1.2382 - val_acc: 0.7137\n",
            "Epoch 18/100\n",
            " - 28s - loss: 0.7470 - acc: 0.7862 - val_loss: 1.2498 - val_acc: 0.7164\n",
            "Epoch 19/100\n",
            " - 28s - loss: 0.7373 - acc: 0.7916 - val_loss: 1.2708 - val_acc: 0.7210\n",
            "Epoch 20/100\n",
            " - 28s - loss: 0.7223 - acc: 0.7948 - val_loss: 1.2607 - val_acc: 0.7226\n",
            "Epoch 21/100\n",
            " - 28s - loss: 0.7174 - acc: 0.7975 - val_loss: 1.2943 - val_acc: 0.7146\n",
            "Epoch 22/100\n",
            " - 28s - loss: 0.7046 - acc: 0.7992 - val_loss: 1.2920 - val_acc: 0.7195\n",
            "Epoch 23/100\n",
            " - 28s - loss: 0.6950 - acc: 0.8025 - val_loss: 1.2852 - val_acc: 0.7105\n",
            "Epoch 24/100\n",
            " - 28s - loss: 0.6976 - acc: 0.8025 - val_loss: 1.3170 - val_acc: 0.7132\n",
            "Epoch 25/100\n",
            " - 28s - loss: 0.6884 - acc: 0.8052 - val_loss: 1.3155 - val_acc: 0.7167\n",
            "Epoch 26/100\n",
            " - 28s - loss: 0.6851 - acc: 0.8069 - val_loss: 1.3123 - val_acc: 0.7144\n",
            "Epoch 27/100\n",
            " - 28s - loss: 0.6766 - acc: 0.8114 - val_loss: 1.3833 - val_acc: 0.7129\n",
            "Epoch 28/100\n",
            " - 29s - loss: 0.6712 - acc: 0.8139 - val_loss: 1.3700 - val_acc: 0.7064\n",
            "Epoch 29/100\n",
            " - 28s - loss: 0.6607 - acc: 0.8168 - val_loss: 1.4095 - val_acc: 0.7181\n",
            "Epoch 30/100\n",
            " - 28s - loss: 0.6627 - acc: 0.8173 - val_loss: 1.3678 - val_acc: 0.7069\n",
            "Epoch 31/100\n",
            " - 28s - loss: 0.6390 - acc: 0.8205 - val_loss: 1.4292 - val_acc: 0.7072\n",
            "Epoch 32/100\n",
            " - 28s - loss: 0.6429 - acc: 0.8217 - val_loss: 1.4187 - val_acc: 0.7102\n",
            "Epoch 33/100\n",
            " - 28s - loss: 0.6452 - acc: 0.8217 - val_loss: 1.3662 - val_acc: 0.7195\n",
            "Epoch 34/100\n",
            " - 28s - loss: 0.6226 - acc: 0.8262 - val_loss: 1.3684 - val_acc: 0.7048\n",
            "Epoch 35/100\n",
            " - 29s - loss: 0.6443 - acc: 0.8244 - val_loss: 1.3846 - val_acc: 0.6940\n",
            "Epoch 36/100\n",
            " - 28s - loss: 0.6487 - acc: 0.8249 - val_loss: 1.4278 - val_acc: 0.7102\n",
            "Epoch 37/100\n",
            " - 28s - loss: 0.6189 - acc: 0.8288 - val_loss: 1.4361 - val_acc: 0.7105\n",
            "Epoch 38/100\n",
            " - 28s - loss: 0.6138 - acc: 0.8313 - val_loss: 1.4614 - val_acc: 0.7216\n",
            "Epoch 39/100\n",
            " - 28s - loss: 0.5991 - acc: 0.8367 - val_loss: 1.5416 - val_acc: 0.7121\n",
            "Epoch 40/100\n",
            " - 28s - loss: 0.6138 - acc: 0.8329 - val_loss: 1.4436 - val_acc: 0.7164\n",
            "Epoch 41/100\n",
            " - 28s - loss: 0.6060 - acc: 0.8343 - val_loss: 1.3914 - val_acc: 0.7096\n",
            "Epoch 42/100\n",
            " - 28s - loss: 0.6150 - acc: 0.8341 - val_loss: 1.4618 - val_acc: 0.7117\n",
            "Epoch 43/100\n",
            " - 29s - loss: 0.5979 - acc: 0.8359 - val_loss: 1.4846 - val_acc: 0.7142\n",
            "Epoch 44/100\n",
            " - 29s - loss: 0.6052 - acc: 0.8379 - val_loss: 1.4843 - val_acc: 0.7102\n",
            "Epoch 45/100\n",
            " - 28s - loss: 0.6017 - acc: 0.8386 - val_loss: 1.4423 - val_acc: 0.7142\n",
            "Epoch 46/100\n",
            " - 28s - loss: 0.5953 - acc: 0.8401 - val_loss: 1.4807 - val_acc: 0.7171\n",
            "Epoch 47/100\n",
            " - 28s - loss: 0.5817 - acc: 0.8435 - val_loss: 1.5173 - val_acc: 0.7089\n",
            "Epoch 48/100\n",
            " - 28s - loss: 0.6108 - acc: 0.8374 - val_loss: 1.4633 - val_acc: 0.7100\n",
            "Epoch 49/100\n",
            " - 28s - loss: 0.5973 - acc: 0.8416 - val_loss: 1.4972 - val_acc: 0.7085\n",
            "Epoch 50/100\n",
            " - 28s - loss: 0.6150 - acc: 0.8395 - val_loss: 1.5250 - val_acc: 0.7165\n",
            "Epoch 51/100\n",
            " - 28s - loss: 0.5892 - acc: 0.8459 - val_loss: 1.5547 - val_acc: 0.7138\n",
            "Epoch 52/100\n",
            " - 28s - loss: 0.5954 - acc: 0.8445 - val_loss: 1.5586 - val_acc: 0.7125\n",
            "Epoch 53/100\n",
            " - 29s - loss: 0.5827 - acc: 0.8467 - val_loss: 1.5443 - val_acc: 0.7092\n",
            "Epoch 54/100\n",
            " - 29s - loss: 0.5990 - acc: 0.8405 - val_loss: 1.5097 - val_acc: 0.7187\n",
            "Epoch 55/100\n",
            " - 29s - loss: 0.5725 - acc: 0.8487 - val_loss: 1.6048 - val_acc: 0.7118\n",
            "Epoch 56/100\n",
            " - 29s - loss: 0.5767 - acc: 0.8489 - val_loss: 1.6120 - val_acc: 0.7088\n",
            "Epoch 57/100\n",
            " - 28s - loss: 0.5785 - acc: 0.8463 - val_loss: 1.6388 - val_acc: 0.7131\n",
            "Epoch 58/100\n",
            " - 29s - loss: 0.5914 - acc: 0.8475 - val_loss: 1.5954 - val_acc: 0.7102\n",
            "Epoch 59/100\n",
            " - 29s - loss: 0.5802 - acc: 0.8484 - val_loss: 1.8228 - val_acc: 0.6859\n",
            "Epoch 60/100\n",
            " - 29s - loss: 0.6444 - acc: 0.8437 - val_loss: 1.5638 - val_acc: 0.7025\n",
            "Epoch 61/100\n",
            " - 29s - loss: 0.5724 - acc: 0.8512 - val_loss: 1.6050 - val_acc: 0.7133\n",
            "Epoch 62/100\n",
            " - 28s - loss: 0.5801 - acc: 0.8492 - val_loss: 1.6349 - val_acc: 0.6991\n",
            "Epoch 63/100\n",
            " - 29s - loss: 0.5874 - acc: 0.8477 - val_loss: 1.4857 - val_acc: 0.7132\n",
            "Epoch 64/100\n",
            " - 29s - loss: 0.5741 - acc: 0.8514 - val_loss: 1.6559 - val_acc: 0.7013\n",
            "Epoch 65/100\n",
            " - 29s - loss: 0.5919 - acc: 0.8485 - val_loss: 1.6146 - val_acc: 0.7099\n",
            "Epoch 66/100\n",
            " - 29s - loss: 0.5681 - acc: 0.8527 - val_loss: 1.5965 - val_acc: 0.7093\n",
            "Epoch 67/100\n",
            " - 28s - loss: 0.6040 - acc: 0.8484 - val_loss: 1.5766 - val_acc: 0.7047\n",
            "Epoch 68/100\n",
            " - 29s - loss: 0.5791 - acc: 0.8518 - val_loss: 1.5704 - val_acc: 0.7087\n",
            "Epoch 69/100\n",
            " - 29s - loss: 0.5775 - acc: 0.8525 - val_loss: 1.6998 - val_acc: 0.7098\n",
            "Epoch 70/100\n",
            " - 29s - loss: 0.5791 - acc: 0.8538 - val_loss: 1.6121 - val_acc: 0.7114\n",
            "Epoch 71/100\n",
            " - 29s - loss: 0.6183 - acc: 0.8495 - val_loss: 1.7765 - val_acc: 0.6943\n",
            "Epoch 72/100\n",
            " - 29s - loss: 0.6554 - acc: 0.8411 - val_loss: 1.5938 - val_acc: 0.7058\n",
            "Epoch 73/100\n",
            " - 29s - loss: 0.5948 - acc: 0.8498 - val_loss: 1.6227 - val_acc: 0.7045\n",
            "Epoch 74/100\n",
            " - 28s - loss: 0.5898 - acc: 0.8521 - val_loss: 1.5637 - val_acc: 0.7082\n",
            "Epoch 75/100\n",
            " - 29s - loss: 0.5660 - acc: 0.8561 - val_loss: 1.7274 - val_acc: 0.7093\n",
            "Epoch 76/100\n",
            " - 29s - loss: 0.5885 - acc: 0.8511 - val_loss: 1.7418 - val_acc: 0.7081\n",
            "Epoch 77/100\n",
            " - 29s - loss: 0.5941 - acc: 0.8504 - val_loss: 1.6204 - val_acc: 0.7090\n",
            "Epoch 78/100\n",
            " - 29s - loss: 0.5688 - acc: 0.8546 - val_loss: 1.6617 - val_acc: 0.6990\n",
            "Epoch 79/100\n",
            " - 29s - loss: 0.5746 - acc: 0.8551 - val_loss: 1.7246 - val_acc: 0.7057\n",
            "Epoch 80/100\n",
            " - 29s - loss: 0.5954 - acc: 0.8546 - val_loss: 1.7307 - val_acc: 0.6940\n",
            "Epoch 81/100\n",
            " - 29s - loss: 0.6702 - acc: 0.8421 - val_loss: 1.6739 - val_acc: 0.7016\n",
            "Epoch 82/100\n",
            " - 29s - loss: 0.6281 - acc: 0.8503 - val_loss: 1.6997 - val_acc: 0.7102\n",
            "Epoch 83/100\n",
            " - 28s - loss: 0.5945 - acc: 0.8535 - val_loss: 1.6756 - val_acc: 0.7034\n",
            "Epoch 84/100\n",
            " - 29s - loss: 0.5701 - acc: 0.8570 - val_loss: 1.8054 - val_acc: 0.7045\n",
            "Epoch 85/100\n",
            " - 28s - loss: 0.6342 - acc: 0.8470 - val_loss: 1.6412 - val_acc: 0.7068\n",
            "Epoch 86/100\n",
            " - 28s - loss: 0.6051 - acc: 0.8493 - val_loss: 1.7434 - val_acc: 0.6854\n",
            "Epoch 87/100\n",
            " - 29s - loss: 0.5792 - acc: 0.8556 - val_loss: 1.6742 - val_acc: 0.7100\n",
            "Epoch 88/100\n",
            " - 29s - loss: 0.5977 - acc: 0.8523 - val_loss: 1.5779 - val_acc: 0.7081\n",
            "Epoch 89/100\n",
            " - 28s - loss: 0.5954 - acc: 0.8545 - val_loss: 1.7059 - val_acc: 0.6995\n",
            "Epoch 90/100\n",
            " - 28s - loss: 0.6100 - acc: 0.8503 - val_loss: 1.6596 - val_acc: 0.7072\n",
            "Epoch 91/100\n",
            " - 28s - loss: 0.5883 - acc: 0.8557 - val_loss: 1.7130 - val_acc: 0.7023\n",
            "Epoch 92/100\n",
            " - 28s - loss: 0.6031 - acc: 0.8536 - val_loss: 1.7095 - val_acc: 0.7036\n",
            "Epoch 93/100\n",
            " - 28s - loss: 0.5913 - acc: 0.8552 - val_loss: 1.7168 - val_acc: 0.7023\n",
            "Epoch 94/100\n",
            " - 28s - loss: 0.6220 - acc: 0.8504 - val_loss: 1.6590 - val_acc: 0.7049\n",
            "Epoch 95/100\n",
            " - 28s - loss: 0.5924 - acc: 0.8571 - val_loss: 1.7261 - val_acc: 0.7075\n",
            "Epoch 96/100\n",
            " - 28s - loss: 0.5902 - acc: 0.8584 - val_loss: 1.7198 - val_acc: 0.7096\n",
            "Epoch 97/100\n",
            " - 28s - loss: 0.6030 - acc: 0.8530 - val_loss: 1.6761 - val_acc: 0.7138\n",
            "Epoch 98/100\n",
            " - 28s - loss: 0.5847 - acc: 0.8582 - val_loss: 1.7780 - val_acc: 0.7040\n",
            "Epoch 99/100\n",
            " - 28s - loss: 0.5787 - acc: 0.8585 - val_loss: 1.7059 - val_acc: 0.7033\n",
            "Epoch 100/100\n",
            " - 28s - loss: 0.5895 - acc: 0.8566 - val_loss: 1.7923 - val_acc: 0.7095\n"
          ],
          "name": "stdout"
        },
        {
          "output_type": "execute_result",
          "data": {
            "text/plain": [
              "<keras.callbacks.History at 0x7fd1d2e60ba8>"
            ]
          },
          "metadata": {
            "tags": []
          },
          "execution_count": 46
        }
      ]
    },
    {
      "metadata": {
        "id": "6TBtGcG1C0bG",
        "colab_type": "code",
        "colab": {}
      },
      "cell_type": "code",
      "source": [
        ""
      ],
      "execution_count": 0,
      "outputs": []
    }
  ]
}